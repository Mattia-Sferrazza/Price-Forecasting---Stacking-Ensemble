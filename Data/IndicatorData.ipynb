{
 "cells": [
  {
   "cell_type": "code",
   "execution_count": null,
   "id": "60ae6067",
   "metadata": {},
   "outputs": [],
   "source": [
    "import requests\n",
    "import pandas as pd\n",
    "import matplotlib.pyplot as plt\n",
    "import pandas_ta as ta \n",
    "import numpy as np\n",
    "import os\n",
    "from config import *"
   ]
  },
  {
   "cell_type": "code",
   "execution_count": null,
   "id": "3bfdee27",
   "metadata": {},
   "outputs": [],
   "source": [
    "\"\"\"\n",
    "SMA/EMA: 5, 10, 20, 50, 100 days (or pick a small subset).\n",
    "\n",
    "MACD: Standard (12, 26, 9) periods.\n",
    "\n",
    "RSI:  7 9 14 21\n",
    "\n",
    "Stochastic Oscillator: Commonly (14, 3, 3).\n",
    "\n",
    "Williams’ %R: Commonly uses a 14-day period.\n",
    "\n",
    "MOM (Momentum): 10 or 14 days.\n",
    "\n",
    "OBV (On-Balance Volume): Typically accumulative (one version).\n",
    "\n",
    "CCO (Chande’s CMO): Often 14 or 20 days.\n",
    "\"\"\""
   ]
  },
  {
   "cell_type": "code",
   "execution_count": null,
   "id": "d2f61f36",
   "metadata": {},
   "outputs": [],
   "source": [
    "\n",
    "df = pd.read_csv(r\"C:\\Users\\matti\\OneDrive\\Thesis\\Data\\filtered_price.csv\", parse_dates=[\"date\"]) #automatically converts date column to dates\n",
    "df.set_index(\"date\", inplace=True) #set date as index\n",
    "df.sort_index(inplace=True)\n",
    "\n",
    "for length in [5,10,20,50,100]:\n",
    "    df.ta.ema(close = \"close\", length=length, append=True) #EMA\n",
    "    df.ta.sma(close = \"close\", length=length, append=True) #SMA\n",
    "\n",
    "df.ta.macd(close = \"close\", fast=12, slow=26, signal=9, append=True) #MACD\n",
    "\n",
    "for length in [7,9,14,21]:\n",
    "    df.ta.rsi(close = \"close\", length=length, append=True) #RSI\n",
    "\n",
    "df.ta.stoch(close = \"close\", high=\"high\", low=\"low\", k=14, d=3, append=True) #Stochastic Oscillator\n",
    "\n",
    "df.ta.willr(high=\"high\", low=\"low\", close=\"close\", length=14, append=True) #Williams %R\n",
    "\n",
    "for length in [5,10,14,21]:\n",
    "    df.ta.mom(close=\"close\", length=length, append=True) #MOM (Momentum)\n",
    "\n",
    "df.ta.obv(close=\"close\", volume=\"volume\", append=True) #OBV (On-Balance Volume)\n",
    "\n",
    "for length in [14,20]:\n",
    "    df.ta.cmo(close=\"close\", length=length, append=True) #CCO (Chande’s CMO)\n",
    "\n",
    "df.to_csv(r\"C:\\Users\\matti\\OneDrive\\Thesis\\Data\\filtered_price_indicators.csv\", index=True) #save to csv\n",
    "    "
   ]
  },
  {
   "cell_type": "code",
   "execution_count": null,
   "id": "315b6d9a",
   "metadata": {},
   "outputs": [],
   "source": [
    "df = pd.read_csv(r\"C:\\Users\\matti\\OneDrive\\Thesis\\Data\\filtered_price_indicators.csv\", parse_dates=[\"date\"]) \n",
    "\n",
    "print(df.columns)\n",
    "\n",
    "start_date = \"2022-03-03\"\n",
    "end_date = \"2024-12-31\"\n",
    "\n",
    "full_range = pd.date_range(start=start_date, end=end_date, freq=\"B\")\n",
    "missing_dates = full_range.difference(df[\"date\"])\n",
    "print(missing_dates) #These are all holidays and thus not trading days, so no data is available\n",
    "# A part from this, all other dates have data, which is good"
   ]
  },
  {
   "cell_type": "code",
   "execution_count": null,
   "id": "20c77394",
   "metadata": {},
   "outputs": [],
   "source": [
    "df2 = df.copy()\n",
    "\n",
    "df2[\"log_return\"] = np.log(df2[\"close\"] / df2[\"close\"].shift(1))\n",
    "\n",
    "n_lags = 5  #How many days back you want to create\n",
    "\n",
    "for lag in range(1, 6): #5 days\n",
    "    df2[f\"close_lag_{lag}\"] = df2[\"close\"].shift(lag)\n",
    "\n",
    "df2.to_csv(r\"C:\\Users\\matti\\OneDrive\\Thesis\\Data\\FINAL_price_indicators.csv\", index=True) #save to csv\n"
   ]
  }
 ],
 "metadata": {
  "kernelspec": {
   "display_name": "Python 3",
   "language": "python",
   "name": "python3"
  },
  "language_info": {
   "codemirror_mode": {
    "name": "ipython",
    "version": 3
   },
   "file_extension": ".py",
   "mimetype": "text/x-python",
   "name": "python",
   "nbconvert_exporter": "python",
   "pygments_lexer": "ipython3",
   "version": "3.11.9"
  }
 },
 "nbformat": 4,
 "nbformat_minor": 5
}
