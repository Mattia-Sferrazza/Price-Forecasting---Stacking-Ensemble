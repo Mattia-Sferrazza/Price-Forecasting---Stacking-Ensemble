{
 "cells": [
  {
   "cell_type": "code",
   "execution_count": null,
   "metadata": {},
   "outputs": [],
   "source": [
    "#Imports\n",
    "import requests\n",
    "import pandas as pd\n",
    "import matplotlib.pyplot as plt\n",
    "import os\n",
    "from config import *"
   ]
  },
  {
   "cell_type": "code",
   "execution_count": null,
   "metadata": {},
   "outputs": [],
   "source": [
    "#Retrive data from Alpha Vantage\n",
    "url = f\"https://www.alphavantage.co/query?function=TIME_SERIES_DAILY&symbol={Company}&outputsize=full&apikey={API_Key}\"\n",
    "r = requests.get(url)\n",
    "data = r.json()\n",
    "time_series = data[\"Time Series (Daily)\"]\n",
    "df = pd.DataFrame.from_dict(time_series, orient=\"index\")\n",
    "df.columns = [\"open\", \"high\", \"low\", \"close\", \"volume\"]\n",
    "df = df.reset_index().rename(columns={\"index\": \"date\"})"
   ]
  },
  {
   "cell_type": "code",
   "execution_count": null,
   "metadata": {},
   "outputs": [],
   "source": [
    "#Fix stock split\n",
    "df[\"date\"] = pd.to_datetime(df[\"date\"])\n",
    "\n",
    "split = pd.to_datetime(\"2022-07-15\") #When the stock split occured\n",
    "\n",
    "filtered_df = df[(df[\"date\"]>= Date_Start) & (df[\"date\"]<= Date_End)] #keep only data between these years\n",
    "#Due to how working days fall, the actual data range is from 2020-01-02 to 2024-12-31\n",
    "\n",
    "#Stock underwent a stock split in 2022 July 15, so all price values before that should be /20 and volume should be *20\n",
    "for col in [\"open\", \"high\", \"low\", \"close\"]:\n",
    "    filtered_df[col] = pd.to_numeric(filtered_df[col])\n",
    "    filtered_df.loc[filtered_df[\"date\"] <= split, col] /= 20\n",
    "\n",
    "#For volume\n",
    "filtered_df[\"volume\"] = pd.to_numeric(filtered_df[\"volume\"])\n",
    "filtered_df.loc[filtered_df[\"date\"] <= split, \"volume\"] *= 20"
   ]
  },
  {
   "cell_type": "code",
   "execution_count": null,
   "metadata": {},
   "outputs": [],
   "source": [
    "#Save data as CSV in same directory\n",
    "filtered_df.to_csv(\"filtered_price.csv\", index=False)"
   ]
  },
  {
   "cell_type": "code",
   "execution_count": null,
   "metadata": {},
   "outputs": [],
   "source": [
    "#Plot data\n",
    "plt.plot(filtered_df[\"date\"], filtered_df[\"close\"])\n",
    "plt.xlabel(\"Date (2020-01-02 to 2025-01-01)\")\n",
    "plt.ylabel(\"Closing Price in $\")\n",
    "plt.title(\"Closing price per day for the stock GOOG\")\n",
    "plt.grid(axis='y', linestyle='--')\n",
    "plt.show()"
   ]
  },
  {
   "cell_type": "code",
   "execution_count": null,
   "metadata": {},
   "outputs": [],
   "source": [
    "import os\n",
    "\n",
    "#Add padding data for technical indicators\n",
    "url = f\"https://www.alphavantage.co/query?function=TIME_SERIES_DAILY&symbol=GOOG&outputsize=full&apikey={API_Key}\"\n",
    "r = requests.get(url)\n",
    "data = r.json()\n",
    "time_series = data[\"Time Series (Daily)\"]\n",
    "df = pd.DataFrame.from_dict(time_series, orient=\"index\")\n",
    "df.columns = [\"open\", \"high\", \"low\", \"close\", \"volume\"]\n",
    "df = df.reset_index().rename(columns={\"index\": \"date\"})\n",
    "\n",
    "#Fix stock split\n",
    "df[\"date\"] = pd.to_datetime(df[\"date\"])\n",
    "\n",
    "split = pd.to_datetime(\"2022-07-15\") #When the stock split occured\n",
    "\n",
    "padding = pd.to_datetime(\"2019-06-01\")\n",
    "\n",
    "filtered_df = df[(df[\"date\"]>= padding) & (df[\"date\"]<= Date_Start)] #keep only data between these years\n",
    "#Due to how working days fall, the actual data range is from 2020-01-02 to 2024-12-31\n",
    "\n",
    "#Stock underwent a stock split in 2022 July 15, so all price values before that should be /20 and volume should be *20\n",
    "for col in [\"open\", \"high\", \"low\", \"close\"]:\n",
    "    filtered_df[col] = pd.to_numeric(filtered_df[col])\n",
    "    filtered_df.loc[filtered_df[\"date\"] <= split, col] /= 20\n",
    "\n",
    "#For volume\n",
    "filtered_df[\"volume\"] = pd.to_numeric(filtered_df[\"volume\"])\n",
    "filtered_df.loc[filtered_df[\"date\"] <= split, \"volume\"] *= 20\n",
    "\n",
    "#Load existing filtered_price.csv if it exists\n",
    "\n",
    "output_path = r\"C:\\Users\\matti\\OneDrive\\Thesis\\Data\\filtered_price.csv\"\n",
    "\n",
    "if os.path.exists(output_path):\n",
    "    existing_df = pd.read_csv(output_path, parse_dates=[\"date\"])\n",
    "\n",
    "    new_rows = filtered_df[~filtered_df[\"date\"].isin(existing_df[\"date\"])]\n",
    "    combined_df = pd.concat([existing_df, new_rows], ignore_index=True)\n",
    "\n",
    "    combined_df = combined_df.sort_values(\"date\", ascending=False)\n",
    "else:\n",
    "    combined_df = filtered_df.sort_values(\"date\", ascending=False)\n",
    "\n",
    "#Save back to the CSV\n",
    "combined_df.to_csv(output_path, index=False)\n",
    "\n"
   ]
  }
 ],
 "metadata": {
  "kernelspec": {
   "display_name": "Python 3",
   "language": "python",
   "name": "python3"
  },
  "language_info": {
   "codemirror_mode": {
    "name": "ipython",
    "version": 3
   },
   "file_extension": ".py",
   "mimetype": "text/x-python",
   "name": "python",
   "nbconvert_exporter": "python",
   "pygments_lexer": "ipython3",
   "version": "3.11.9"
  }
 },
 "nbformat": 4,
 "nbformat_minor": 2
}
