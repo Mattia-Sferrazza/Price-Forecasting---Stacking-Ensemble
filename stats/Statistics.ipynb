{
 "cells": [
  {
   "cell_type": "code",
   "execution_count": null,
   "id": "885211e2",
   "metadata": {},
   "outputs": [],
   "source": [
    "import pandas as pd\n",
    "import numpy as np\n",
    "import matplotlib.pyplot as plt\n",
    "\n",
    "\n",
    "df = pd.read_csv(r\"C:\\Users\\matti\\OneDrive\\Thesis\\stats\\aggregate_metrics_25runs.csv\", sep=\",\")  \n",
    "\n",
    "df[[\"Mean\", \"Std\"]] = df[df.columns[1]].str.extract(r\"([\\d.]+)\\s*±\\s*([\\d.]+)\").astype(float)\n",
    "\n",
    "n = 25  #number of runs\n",
    "z = 1.96  #95% confidence interval\n",
    "\n",
    "#Calculate\n",
    "df[\"Margin of Error\"] = z * df[\"Std\"] / np.sqrt(n)\n",
    "df[\"CI Lower\"] = df[\"Mean\"] - df[\"Margin of Error\"]\n",
    "df[\"CI Upper\"] = df[\"Mean\"] + df[\"Margin of Error\"]\n",
    "df[\"95% CI\"] = df.apply(lambda row: f\"[{row[\"CI Lower\"]:.4f}, {row[\"CI Upper\"]:.4f}]\", axis=1)\n",
    "\n",
    "df.to_csv(\"aggregate_metrics_with_ci.csv\", index=False)\n",
    "\n"
   ]
  },
  {
   "cell_type": "code",
   "execution_count": null,
   "id": "4455230d",
   "metadata": {},
   "outputs": [],
   "source": [
    "import pandas as pd\n",
    "from scipy.stats import shapiro, ttest_rel, wilcoxon\n",
    "import itertools\n",
    "\n",
    "df = pd.read_csv(r\"C:\\Users\\matti\\OneDrive\\Thesis\\stats\\all_metrics_25runs (1).csv\", sep=\",\")  \n",
    "\n",
    "models = [\"lstm\", \"gru\", \"xgb\", \"stack_lr\", \"stack_nn\"]\n",
    "metrics = [\"rmse\", \"mae\", \"mape\", \"mda\"]\n",
    "\n",
    "results = []\n",
    "\n",
    "for metric in metrics:\n",
    "    for model1, model2 in itertools.combinations(models, 2):\n",
    "        col1 = f\"{model1}_{metric}\"\n",
    "        col2 = f\"{model2}_{metric}\"\n",
    "        diffs = df[col1] - df[col2]\n",
    "        _, p_norm = shapiro(diffs)\n",
    "        is_normal = p_norm > 0.05\n",
    "\n",
    "        if is_normal:\n",
    "            test_used = \"Paired t-test\"\n",
    "            stat, p_val = ttest_rel(df[col1], df[col2])\n",
    "        else:\n",
    "            test_used = \"Wilcoxon\"\n",
    "            try:\n",
    "                stat, p_val = wilcoxon(df[col1], df[col2])\n",
    "            except ValueError:\n",
    "                stat, p_val = None, None #Only happens if all are 0\n",
    "\n",
    "        results.append({\n",
    "            \"Comparison\": f\"{model1} vs {model2}\",\n",
    "            \"Metric\": metric,\n",
    "            \"Normality p\": round(p_norm, 4),\n",
    "            \"Normal Dist?\": \"Yes\" if is_normal else \"No\",\n",
    "            \"Test Used\": test_used,\n",
    "            \"p-value\": round(p_val, 4) if p_val is not None else \"NA\",\n",
    "            \"Statistically Significant?\": \"Yes\" if p_val is not None and p_val < 0.05 else \"No\"\n",
    "        })\n",
    "\n",
    "result_df = pd.DataFrame(results)\n",
    "\n",
    "result_df.to_csv(\"correlations.csv\", index=False)\n",
    "\n",
    "\n"
   ]
  }
 ],
 "metadata": {
  "kernelspec": {
   "display_name": "Python 3",
   "language": "python",
   "name": "python3"
  },
  "language_info": {
   "codemirror_mode": {
    "name": "ipython",
    "version": 3
   },
   "file_extension": ".py",
   "mimetype": "text/x-python",
   "name": "python",
   "nbconvert_exporter": "python",
   "pygments_lexer": "ipython3",
   "version": "3.11.9"
  }
 },
 "nbformat": 4,
 "nbformat_minor": 5
}
