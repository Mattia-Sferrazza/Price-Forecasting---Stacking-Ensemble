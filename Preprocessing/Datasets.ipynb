{
 "cells": [
  {
   "cell_type": "code",
   "execution_count": null,
   "id": "954e10f7",
   "metadata": {},
   "outputs": [],
   "source": [
    "import pandas as pd"
   ]
  },
  {
   "cell_type": "code",
   "execution_count": null,
   "id": "a30363a3",
   "metadata": {},
   "outputs": [],
   "source": [
    "#DATASET 1\n",
    "# \n",
    "#Random Forest and XGBoost \n",
    "#Important features: [SMA_5, EMA_5, close_lag_1, open, high, low, close]\n",
    "\n",
    "df = pd.read_csv(r\"C:\\Users\\matti\\OneDrive\\Thesis\\Data\\AGGREGATED.csv\", parse_dates=[\"date\"])\n",
    "\n",
    "dataset1 = df[[\"date\", \"open\", \"high\", \"low\", \"close\", \"SMA_5\", \"EMA_5\", \"close_lag_1\",]]\n",
    "print(dataset1.head())\n",
    "print(dataset1.shape)\n",
    "\n",
    "dataset1.to_csv(r\"C:\\Users\\matti\\OneDrive\\Thesis\\Preprocessing\\dataset1.csv\", index=False)"
   ]
  }
 ],
 "metadata": {
  "kernelspec": {
   "display_name": "Python 3",
   "language": "python",
   "name": "python3"
  },
  "language_info": {
   "codemirror_mode": {
    "name": "ipython",
    "version": 3
   },
   "file_extension": ".py",
   "mimetype": "text/x-python",
   "name": "python",
   "nbconvert_exporter": "python",
   "pygments_lexer": "ipython3",
   "version": "3.11.9"
  }
 },
 "nbformat": 4,
 "nbformat_minor": 5
}
