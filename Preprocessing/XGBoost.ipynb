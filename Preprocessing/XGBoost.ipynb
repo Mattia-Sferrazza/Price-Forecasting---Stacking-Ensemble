{
 "cells": [
  {
   "cell_type": "code",
   "execution_count": null,
   "id": "6a352dba",
   "metadata": {},
   "outputs": [],
   "source": [
    "import pandas as pd\n",
    "from xgboost import XGBRegressor\n",
    "import matplotlib.pyplot as plt\n",
    "import shap\n",
    "from sklearn.inspection import permutation_importance"
   ]
  },
  {
   "cell_type": "code",
   "execution_count": null,
   "id": "7a1a4582",
   "metadata": {},
   "outputs": [],
   "source": [
    "#Load data\n",
    "X = pd.read_csv(\"X.csv\")\n",
    "y = pd.read_csv(\"y.csv\").squeeze()  #Converts from DataFrame to Series\n",
    "\n",
    "print(X.shape, y.shape)\n",
    "print()\n",
    "print(X.head())\n",
    "print(y.head())"
   ]
  },
  {
   "cell_type": "code",
   "execution_count": null,
   "id": "b197e181",
   "metadata": {},
   "outputs": [],
   "source": [
    "xgb = XGBRegressor(\n",
    "    n_estimators=600,\n",
    "    max_depth=6,\n",
    "    learning_rate=0.05,\n",
    "    reg_lambda=1.0,\n",
    "    reg_alpha=0.3,\n",
    "    subsample=0.8,\n",
    "    colsample_bytree=0.8,\n",
    "    tree_method=\"hist\",  # Fast and efficient\n",
    "    random_state=42\n",
    ")\n",
    "\n",
    "xgb.fit(X, y)\n",
    "\n",
    "gain_importance = pd.Series(xgb.feature_importances_, index=X.columns).sort_values(ascending=True)\n",
    "print(\"Training complete\")"
   ]
  },
  {
   "cell_type": "code",
   "execution_count": null,
   "id": "2cfd2a5c",
   "metadata": {},
   "outputs": [],
   "source": [
    "print(gain_importance)"
   ]
  },
  {
   "cell_type": "code",
   "execution_count": null,
   "id": "89280aeb",
   "metadata": {},
   "outputs": [],
   "source": [
    "#Plot feature importances\n",
    "\n",
    "plt.figure(figsize=(12, 10))\n",
    "gain_importance.plot(kind=\"barh\")\n",
    "plt.title(\"XGBoost Feature Importances (Gain-Based)\")\n",
    "plt.xlabel(\"Gain Importance\")\n",
    "plt.tight_layout()\n",
    "plt.savefig(\"xgb_feature_importance_all.png\", dpi=300, bbox_inches=\"tight\")\n",
    "plt.show()"
   ]
  },
  {
   "cell_type": "code",
   "execution_count": null,
   "id": "54c7f55b",
   "metadata": {},
   "outputs": [],
   "source": [
    "\n",
    "#Generate SHAP values\n",
    "explainer = shap.Explainer(xgb)\n",
    "shap_vals = explainer(X)\n",
    "\n",
    "#Calculate mean absolute SHAP value per feature\n",
    "mean_abs_shap = np.abs(shap_vals.values).mean(axis=0)\n",
    "shap_importance = pd.Series(mean_abs_shap, index=X.columns).sort_values(ascending=True)\n",
    "\n",
    "#P\n",
    "plt.figure(figsize=(10, 8))\n",
    "shap_importance.tail(20).plot(kind=\"barh\")  # Change tail(N) to control how many features to show\n",
    "plt.title(\"SHAP Feature Importances (Mean Absolute Value)\")\n",
    "plt.xlabel(\"Mean |SHAP Value|\")\n",
    "plt.ylabel(\"Feature\")\n",
    "plt.tight_layout()\n",
    "plt.show()\n"
   ]
  }
 ],
 "metadata": {
  "kernelspec": {
   "display_name": "Python 3",
   "language": "python",
   "name": "python3"
  },
  "language_info": {
   "codemirror_mode": {
    "name": "ipython",
    "version": 3
   },
   "file_extension": ".py",
   "mimetype": "text/x-python",
   "name": "python",
   "nbconvert_exporter": "python",
   "pygments_lexer": "ipython3",
   "version": "3.11.9"
  }
 },
 "nbformat": 4,
 "nbformat_minor": 5
}
