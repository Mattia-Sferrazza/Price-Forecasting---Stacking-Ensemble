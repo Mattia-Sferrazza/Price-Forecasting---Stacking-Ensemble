{
 "cells": [
  {
   "cell_type": "code",
   "execution_count": null,
   "id": "3cf96bb5",
   "metadata": {},
   "outputs": [],
   "source": [
    "import pandas as pd\n",
    "import numpy as np\n",
    "from sklearn.ensemble import RandomForestRegressor\n",
    "import matplotlib.pyplot as plt"
   ]
  },
  {
   "cell_type": "code",
   "execution_count": null,
   "id": "23d62243",
   "metadata": {},
   "outputs": [],
   "source": [
    "df = pd.read_csv(r\"C:\\Users\\matti\\OneDrive\\Thesis\\Data\\AGGREGATED.csv\", parse_dates=[\"date\"])\n",
    "\n",
    "print(df.info())\n",
    "\n",
    "#drop unnecessary columns for Random Forest, Unamed: 0.1 and date\n",
    "df.drop(columns=[\"Unnamed: 0\", \"date\"], inplace=True)"
   ]
  },
  {
   "cell_type": "code",
   "execution_count": null,
   "id": "f2d75d2a",
   "metadata": {},
   "outputs": [],
   "source": [
    "print(df.info())\n",
    "\"\"\"\n",
    "Now let\"s separate the features and the target variable, so y(close) is target and everything else is features.\n",
    "\"\"\"\n",
    "df[\"target\"] = df[\"close\"].shift(-1) #shift -1 to get the next day closing price as target\n",
    "\n",
    "# Drop the last row (since target will be NaN)\n",
    "df = df.dropna(subset=[\"target\"])  #drop the target from the dataframe, so we can use it as target variable and also keep the current day\"s closing price as a feature\n",
    "\n",
    "df.reset_index(drop=True, inplace=True)\n",
    "\n",
    "# Separate features and target\n",
    "X = df.drop(columns=[\"target\"])\n",
    "y = df[\"target\"]\n",
    "\n",
    "print(X.head())\n",
    "print(y.head())"
   ]
  },
  {
   "cell_type": "code",
   "execution_count": null,
   "id": "83b42a8b",
   "metadata": {},
   "outputs": [],
   "source": [
    "print(X.shape)\n",
    "print(y.shape)\n",
    "print()\n",
    "print(X.head())\n",
    "print(y.head())\n",
    "print()\n",
    "print(X.tail())\n",
    "print(y.tail())"
   ]
  },
  {
   "cell_type": "code",
   "execution_count": null,
   "id": "5613fde8",
   "metadata": {},
   "outputs": [],
   "source": [
    "#Save to CSV files so I can reuse them in other files without having to run this code again\n",
    "X.to_csv(\"X.csv\", index=False)\n",
    "y.to_csv(\"y.csv\", index=False)"
   ]
  },
  {
   "cell_type": "code",
   "execution_count": null,
   "id": "c356a405",
   "metadata": {},
   "outputs": [],
   "source": [
    "#train Random Forest Regressor\n",
    "\n",
    "rf = RandomForestRegressor(n_estimators=200, max_depth=6, random_state=42, n_jobs=-1) #n_jobs to use all cores\n",
    "rf.fit(X, y)\n",
    "\n",
    "rf_importances = pd.Series(rf.feature_importances_, index=X.columns)\n",
    "rf_importances_sorted = rf_importances.sort_values()\n"
   ]
  },
  {
   "cell_type": "code",
   "execution_count": null,
   "id": "4a3e87e8",
   "metadata": {},
   "outputs": [],
   "source": [
    "#plot\n",
    "plt.figure(figsize=(12, 10))\n",
    "rf_importances_sorted.plot(kind=\"barh\")\n",
    "plt.title(\"Random Forest Feature Importances (All Features)\")\n",
    "plt.xlabel(\"Importance Score\")\n",
    "plt.tight_layout()\n",
    "#plt.savefig(\"rf_feature_importance_all.png\", dpi=300, bbox_inches=\"tight\")  # Save for thesis\n",
    "plt.show()\n",
    "plt.savefig(\"RF.png\", dpi=300, bbox_inches=\"tight\")  # You can change filename and format\n",
    "\n"
   ]
  },
  {
   "cell_type": "code",
   "execution_count": null,
   "id": "694df68d",
   "metadata": {},
   "outputs": [],
   "source": [
    "print(rf_importances_sorted)"
   ]
  }
 ],
 "metadata": {
  "kernelspec": {
   "display_name": "Python 3",
   "language": "python",
   "name": "python3"
  },
  "language_info": {
   "codemirror_mode": {
    "name": "ipython",
    "version": 3
   },
   "file_extension": ".py",
   "mimetype": "text/x-python",
   "name": "python",
   "nbconvert_exporter": "python",
   "pygments_lexer": "ipython3",
   "version": "3.11.9"
  }
 },
 "nbformat": 4,
 "nbformat_minor": 5
}
